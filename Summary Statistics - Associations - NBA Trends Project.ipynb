{
 "cells": [
  {
   "cell_type": "markdown",
   "id": "c123735a",
   "metadata": {},
   "source": [
    "# Codecademy NBA Trends Project\n",
    "\n",
    "*Analyze National Basketball Association (NBA) data to look at associations between teams, win-rates, playoff appearances, and more.*"
   ]
  },
  {
   "cell_type": "markdown",
   "id": "87b23488",
   "metadata": {},
   "source": [
    "In this project, you'll analyze data from the NBA (National Basketball Association) and explore possible associations. \n",
    "\n",
    "This data was originally sourced from 538's Analysis of the [Complete History Of The NBA](http://fivethirtyeight.com/interactives/the-complete-history-of-every-nba-team-by-elo) and contains the original, unmodified data from [Basketball Reference](http://www.basketball-reference.com/) as well as several additional variables 538 added to perform their own analysis. \n",
    "\n",
    "You can read more about the data and how it's being used by 538 [here](https://github.com/fivethirtyeight/data/tree/master/nba-elo). For this project we've limited the data to just 5 teams and 10 columns (plus one constructed column, `point_diff`, the difference between `pts` and `opp_pts`)."
   ]
  },
  {
   "cell_type": "code",
   "execution_count": 1,
   "id": "ee2ebad5",
   "metadata": {},
   "outputs": [],
   "source": [
    "import numpy as np\n",
    "import pandas as pd\n",
    "from scipy.stats import pearsonr, chi2_contingency\n",
    "import matplotlib.pyplot as plt\n",
    "import seaborn as sns"
   ]
  },
  {
   "cell_type": "code",
   "execution_count": 2,
   "id": "3d686347",
   "metadata": {},
   "outputs": [],
   "source": [
    "# to make the output look nicer\n",
    "np.set_printoptions(suppress=True, precision = 2)"
   ]
  },
  {
   "cell_type": "code",
   "execution_count": 3,
   "id": "d3f036e4",
   "metadata": {
    "scrolled": true
   },
   "outputs": [
    {
     "data": {
      "text/html": [
       "<div>\n",
       "<style scoped>\n",
       "    .dataframe tbody tr th:only-of-type {\n",
       "        vertical-align: middle;\n",
       "    }\n",
       "\n",
       "    .dataframe tbody tr th {\n",
       "        vertical-align: top;\n",
       "    }\n",
       "\n",
       "    .dataframe thead th {\n",
       "        text-align: right;\n",
       "    }\n",
       "</style>\n",
       "<table border=\"1\" class=\"dataframe\">\n",
       "  <thead>\n",
       "    <tr style=\"text-align: right;\">\n",
       "      <th></th>\n",
       "      <th>game_id</th>\n",
       "      <th>year_id</th>\n",
       "      <th>fran_id</th>\n",
       "      <th>opp_fran</th>\n",
       "      <th>game_location</th>\n",
       "      <th>is_playoffs</th>\n",
       "      <th>pts</th>\n",
       "      <th>opp_pts</th>\n",
       "      <th>game_result</th>\n",
       "      <th>forecast</th>\n",
       "      <th>point_diff</th>\n",
       "    </tr>\n",
       "  </thead>\n",
       "  <tbody>\n",
       "    <tr>\n",
       "      <th>0</th>\n",
       "      <td>194611010TRH</td>\n",
       "      <td>1947</td>\n",
       "      <td>Knicks</td>\n",
       "      <td>Huskies</td>\n",
       "      <td>A</td>\n",
       "      <td>0</td>\n",
       "      <td>68</td>\n",
       "      <td>66</td>\n",
       "      <td>W</td>\n",
       "      <td>0.359935</td>\n",
       "      <td>2</td>\n",
       "    </tr>\n",
       "    <tr>\n",
       "      <th>1</th>\n",
       "      <td>194611020CHS</td>\n",
       "      <td>1947</td>\n",
       "      <td>Knicks</td>\n",
       "      <td>Stags</td>\n",
       "      <td>A</td>\n",
       "      <td>0</td>\n",
       "      <td>47</td>\n",
       "      <td>63</td>\n",
       "      <td>L</td>\n",
       "      <td>0.368899</td>\n",
       "      <td>-16</td>\n",
       "    </tr>\n",
       "    <tr>\n",
       "      <th>2</th>\n",
       "      <td>194611020PRO</td>\n",
       "      <td>1947</td>\n",
       "      <td>Celtics</td>\n",
       "      <td>Steamrollers</td>\n",
       "      <td>A</td>\n",
       "      <td>0</td>\n",
       "      <td>53</td>\n",
       "      <td>59</td>\n",
       "      <td>L</td>\n",
       "      <td>0.359935</td>\n",
       "      <td>-6</td>\n",
       "    </tr>\n",
       "    <tr>\n",
       "      <th>3</th>\n",
       "      <td>194611050BOS</td>\n",
       "      <td>1947</td>\n",
       "      <td>Celtics</td>\n",
       "      <td>Stags</td>\n",
       "      <td>H</td>\n",
       "      <td>0</td>\n",
       "      <td>55</td>\n",
       "      <td>57</td>\n",
       "      <td>L</td>\n",
       "      <td>0.620204</td>\n",
       "      <td>-2</td>\n",
       "    </tr>\n",
       "    <tr>\n",
       "      <th>4</th>\n",
       "      <td>194611070STB</td>\n",
       "      <td>1947</td>\n",
       "      <td>Knicks</td>\n",
       "      <td>Bombers</td>\n",
       "      <td>A</td>\n",
       "      <td>0</td>\n",
       "      <td>68</td>\n",
       "      <td>63</td>\n",
       "      <td>W</td>\n",
       "      <td>0.339290</td>\n",
       "      <td>5</td>\n",
       "    </tr>\n",
       "  </tbody>\n",
       "</table>\n",
       "</div>"
      ],
      "text/plain": [
       "        game_id  year_id  fran_id      opp_fran game_location  is_playoffs  \\\n",
       "0  194611010TRH     1947   Knicks       Huskies             A            0   \n",
       "1  194611020CHS     1947   Knicks         Stags             A            0   \n",
       "2  194611020PRO     1947  Celtics  Steamrollers             A            0   \n",
       "3  194611050BOS     1947  Celtics         Stags             H            0   \n",
       "4  194611070STB     1947   Knicks       Bombers             A            0   \n",
       "\n",
       "   pts  opp_pts game_result  forecast  point_diff  \n",
       "0   68       66           W  0.359935           2  \n",
       "1   47       63           L  0.368899         -16  \n",
       "2   53       59           L  0.359935          -6  \n",
       "3   55       57           L  0.620204          -2  \n",
       "4   68       63           W  0.339290           5  "
      ]
     },
     "execution_count": 3,
     "metadata": {},
     "output_type": "execute_result"
    }
   ],
   "source": [
    "nba = pd.read_csv('nba_games.csv')\n",
    "nba.head()"
   ]
  },
  {
   "cell_type": "markdown",
   "id": "ba839650",
   "metadata": {},
   "source": [
    "The data has been subsetted for you into two smaller datasets: games from 2010 (named `nba_2010`) and games from 2014 (named `nba_2014`). To start, let’s focus on the 2010 data."
   ]
  },
  {
   "cell_type": "code",
   "execution_count": 4,
   "id": "1dc5b03c",
   "metadata": {},
   "outputs": [],
   "source": [
    "# Subset Data to 2010 Season, 2014 Season\n",
    "nba_2010 = nba[nba.year_id == 2010]\n",
    "nba_2014 = nba[nba.year_id == 2014]"
   ]
  },
  {
   "cell_type": "code",
   "execution_count": 5,
   "id": "9d9e91d4",
   "metadata": {},
   "outputs": [
    {
     "data": {
      "text/html": [
       "<div>\n",
       "<style scoped>\n",
       "    .dataframe tbody tr th:only-of-type {\n",
       "        vertical-align: middle;\n",
       "    }\n",
       "\n",
       "    .dataframe tbody tr th {\n",
       "        vertical-align: top;\n",
       "    }\n",
       "\n",
       "    .dataframe thead th {\n",
       "        text-align: right;\n",
       "    }\n",
       "</style>\n",
       "<table border=\"1\" class=\"dataframe\">\n",
       "  <thead>\n",
       "    <tr style=\"text-align: right;\">\n",
       "      <th></th>\n",
       "      <th>game_id</th>\n",
       "      <th>year_id</th>\n",
       "      <th>fran_id</th>\n",
       "      <th>opp_fran</th>\n",
       "      <th>game_location</th>\n",
       "      <th>is_playoffs</th>\n",
       "      <th>pts</th>\n",
       "      <th>opp_pts</th>\n",
       "      <th>game_result</th>\n",
       "      <th>forecast</th>\n",
       "      <th>point_diff</th>\n",
       "    </tr>\n",
       "  </thead>\n",
       "  <tbody>\n",
       "    <tr>\n",
       "      <th>21717</th>\n",
       "      <td>200910270CLE</td>\n",
       "      <td>2010</td>\n",
       "      <td>Celtics</td>\n",
       "      <td>Cavaliers</td>\n",
       "      <td>A</td>\n",
       "      <td>0</td>\n",
       "      <td>95</td>\n",
       "      <td>89</td>\n",
       "      <td>W</td>\n",
       "      <td>0.277472</td>\n",
       "      <td>6</td>\n",
       "    </tr>\n",
       "    <tr>\n",
       "      <th>21718</th>\n",
       "      <td>200910280BOS</td>\n",
       "      <td>2010</td>\n",
       "      <td>Celtics</td>\n",
       "      <td>Hornets</td>\n",
       "      <td>H</td>\n",
       "      <td>0</td>\n",
       "      <td>92</td>\n",
       "      <td>59</td>\n",
       "      <td>W</td>\n",
       "      <td>0.814619</td>\n",
       "      <td>33</td>\n",
       "    </tr>\n",
       "    <tr>\n",
       "      <th>21719</th>\n",
       "      <td>200910280MIA</td>\n",
       "      <td>2010</td>\n",
       "      <td>Knicks</td>\n",
       "      <td>Heat</td>\n",
       "      <td>A</td>\n",
       "      <td>0</td>\n",
       "      <td>93</td>\n",
       "      <td>115</td>\n",
       "      <td>L</td>\n",
       "      <td>0.258755</td>\n",
       "      <td>-22</td>\n",
       "    </tr>\n",
       "    <tr>\n",
       "      <th>21720</th>\n",
       "      <td>200910280MIN</td>\n",
       "      <td>2010</td>\n",
       "      <td>Nets</td>\n",
       "      <td>Timberwolves</td>\n",
       "      <td>A</td>\n",
       "      <td>0</td>\n",
       "      <td>93</td>\n",
       "      <td>95</td>\n",
       "      <td>L</td>\n",
       "      <td>0.475155</td>\n",
       "      <td>-2</td>\n",
       "    </tr>\n",
       "    <tr>\n",
       "      <th>21721</th>\n",
       "      <td>200910280OKC</td>\n",
       "      <td>2010</td>\n",
       "      <td>Thunder</td>\n",
       "      <td>Kings</td>\n",
       "      <td>H</td>\n",
       "      <td>0</td>\n",
       "      <td>102</td>\n",
       "      <td>89</td>\n",
       "      <td>W</td>\n",
       "      <td>0.716764</td>\n",
       "      <td>13</td>\n",
       "    </tr>\n",
       "  </tbody>\n",
       "</table>\n",
       "</div>"
      ],
      "text/plain": [
       "            game_id  year_id  fran_id      opp_fran game_location  \\\n",
       "21717  200910270CLE     2010  Celtics     Cavaliers             A   \n",
       "21718  200910280BOS     2010  Celtics       Hornets             H   \n",
       "21719  200910280MIA     2010   Knicks          Heat             A   \n",
       "21720  200910280MIN     2010     Nets  Timberwolves             A   \n",
       "21721  200910280OKC     2010  Thunder         Kings             H   \n",
       "\n",
       "       is_playoffs  pts  opp_pts game_result  forecast  point_diff  \n",
       "21717            0   95       89           W  0.277472           6  \n",
       "21718            0   92       59           W  0.814619          33  \n",
       "21719            0   93      115           L  0.258755         -22  \n",
       "21720            0   93       95           L  0.475155          -2  \n",
       "21721            0  102       89           W  0.716764          13  "
      ]
     },
     "execution_count": 5,
     "metadata": {},
     "output_type": "execute_result"
    }
   ],
   "source": [
    "nba_2010.head()"
   ]
  },
  {
   "cell_type": "code",
   "execution_count": 6,
   "id": "31e71156",
   "metadata": {},
   "outputs": [
    {
     "data": {
      "text/html": [
       "<div>\n",
       "<style scoped>\n",
       "    .dataframe tbody tr th:only-of-type {\n",
       "        vertical-align: middle;\n",
       "    }\n",
       "\n",
       "    .dataframe tbody tr th {\n",
       "        vertical-align: top;\n",
       "    }\n",
       "\n",
       "    .dataframe thead th {\n",
       "        text-align: right;\n",
       "    }\n",
       "</style>\n",
       "<table border=\"1\" class=\"dataframe\">\n",
       "  <thead>\n",
       "    <tr style=\"text-align: right;\">\n",
       "      <th></th>\n",
       "      <th>game_id</th>\n",
       "      <th>year_id</th>\n",
       "      <th>fran_id</th>\n",
       "      <th>opp_fran</th>\n",
       "      <th>game_location</th>\n",
       "      <th>is_playoffs</th>\n",
       "      <th>pts</th>\n",
       "      <th>opp_pts</th>\n",
       "      <th>game_result</th>\n",
       "      <th>forecast</th>\n",
       "      <th>point_diff</th>\n",
       "    </tr>\n",
       "  </thead>\n",
       "  <tbody>\n",
       "    <tr>\n",
       "      <th>23468</th>\n",
       "      <td>201310300CLE</td>\n",
       "      <td>2014</td>\n",
       "      <td>Nets</td>\n",
       "      <td>Cavaliers</td>\n",
       "      <td>A</td>\n",
       "      <td>0</td>\n",
       "      <td>94</td>\n",
       "      <td>98</td>\n",
       "      <td>L</td>\n",
       "      <td>0.611981</td>\n",
       "      <td>-4</td>\n",
       "    </tr>\n",
       "    <tr>\n",
       "      <th>23469</th>\n",
       "      <td>201310300NYK</td>\n",
       "      <td>2014</td>\n",
       "      <td>Knicks</td>\n",
       "      <td>Bucks</td>\n",
       "      <td>H</td>\n",
       "      <td>0</td>\n",
       "      <td>90</td>\n",
       "      <td>83</td>\n",
       "      <td>W</td>\n",
       "      <td>0.793150</td>\n",
       "      <td>7</td>\n",
       "    </tr>\n",
       "    <tr>\n",
       "      <th>23470</th>\n",
       "      <td>201310300SAS</td>\n",
       "      <td>2014</td>\n",
       "      <td>Spurs</td>\n",
       "      <td>Grizzlies</td>\n",
       "      <td>H</td>\n",
       "      <td>0</td>\n",
       "      <td>101</td>\n",
       "      <td>94</td>\n",
       "      <td>W</td>\n",
       "      <td>0.692980</td>\n",
       "      <td>7</td>\n",
       "    </tr>\n",
       "    <tr>\n",
       "      <th>23471</th>\n",
       "      <td>201310300TOR</td>\n",
       "      <td>2014</td>\n",
       "      <td>Celtics</td>\n",
       "      <td>Raptors</td>\n",
       "      <td>A</td>\n",
       "      <td>0</td>\n",
       "      <td>87</td>\n",
       "      <td>93</td>\n",
       "      <td>L</td>\n",
       "      <td>0.361233</td>\n",
       "      <td>-6</td>\n",
       "    </tr>\n",
       "    <tr>\n",
       "      <th>23472</th>\n",
       "      <td>201310300UTA</td>\n",
       "      <td>2014</td>\n",
       "      <td>Thunder</td>\n",
       "      <td>Jazz</td>\n",
       "      <td>A</td>\n",
       "      <td>0</td>\n",
       "      <td>101</td>\n",
       "      <td>98</td>\n",
       "      <td>W</td>\n",
       "      <td>0.526056</td>\n",
       "      <td>3</td>\n",
       "    </tr>\n",
       "  </tbody>\n",
       "</table>\n",
       "</div>"
      ],
      "text/plain": [
       "            game_id  year_id  fran_id   opp_fran game_location  is_playoffs  \\\n",
       "23468  201310300CLE     2014     Nets  Cavaliers             A            0   \n",
       "23469  201310300NYK     2014   Knicks      Bucks             H            0   \n",
       "23470  201310300SAS     2014    Spurs  Grizzlies             H            0   \n",
       "23471  201310300TOR     2014  Celtics    Raptors             A            0   \n",
       "23472  201310300UTA     2014  Thunder       Jazz             A            0   \n",
       "\n",
       "       pts  opp_pts game_result  forecast  point_diff  \n",
       "23468   94       98           L  0.611981          -4  \n",
       "23469   90       83           W  0.793150           7  \n",
       "23470  101       94           W  0.692980           7  \n",
       "23471   87       93           L  0.361233          -6  \n",
       "23472  101       98           W  0.526056           3  "
      ]
     },
     "execution_count": 6,
     "metadata": {},
     "output_type": "execute_result"
    }
   ],
   "source": [
    "nba_2014.head()"
   ]
  },
  {
   "cell_type": "markdown",
   "id": "e7fcdda4",
   "metadata": {},
   "source": [
    "## Analyzing relationships between Quant and Categorical\n",
    "Suppose you want to compare the knicks to the nets with respect to points earned per game. Using the `pts` column from the `nba_2010` DataFrame, create two series named `knicks_pts` (`fran_id = \"Knicks\"`) and `nets_pts`(`fran_id = \"Nets\"`) that represent the points each team has scored in their games."
   ]
  },
  {
   "cell_type": "code",
   "execution_count": 7,
   "id": "0195bcd4",
   "metadata": {},
   "outputs": [],
   "source": [
    "knicks_pts_2010 = nba_2010.pts[nba_2010.fran_id =='Knicks']\n",
    "nets_pts_2010 = nba_2010.pts[nba_2010.fran_id =='Nets']"
   ]
  },
  {
   "cell_type": "markdown",
   "id": "e6de447d",
   "metadata": {},
   "source": [
    "Calculate the difference between the two teams’ average points scored and save the result as `diff_means_2010`. Based on this value, do you think `fran_id` and `pts` are associated? Why or why not?"
   ]
  },
  {
   "cell_type": "code",
   "execution_count": 8,
   "id": "9f177727",
   "metadata": {},
   "outputs": [
    {
     "name": "stdout",
     "output_type": "stream",
     "text": [
      "9.731707317073173\n"
     ]
    }
   ],
   "source": [
    "knicks_mean_score_2010 = np.mean(knicks_pts_2010)\n",
    "nets_mean_score_2010 = np.mean(nets_pts_2010)\n",
    "\n",
    "diff_means_2010 = knicks_mean_score_2010 - nets_mean_score_2010\n",
    "print(diff_means_2010)"
   ]
  },
  {
   "cell_type": "markdown",
   "id": "b48a71bf",
   "metadata": {},
   "source": [
    "*I don't know because I don't know if 9.7 is \"large\" or \"small\".*"
   ]
  },
  {
   "cell_type": "markdown",
   "id": "5e53e91f",
   "metadata": {},
   "source": [
    "Rather than comparing means, it’s useful look at the full distribution of values to understand whether a difference in means is meaningful. Create a set of overlapping histograms that can be used to compare the points scored for the Knicks compared to the Nets. Use the series you created in the previous step (1) and the code below to create the plot. Do the distributions appear to be the same?"
   ]
  },
  {
   "cell_type": "code",
   "execution_count": 9,
   "id": "49e26749",
   "metadata": {
    "scrolled": true
   },
   "outputs": [
    {
     "data": {
      "image/png": "[encoded data removed]",
      "text/plain": [
       "<Figure size 432x288 with 1 Axes>"
      ]
     },
     "metadata": {
      "needs_background": "light"
     },
     "output_type": "display_data"
    }
   ],
   "source": [
    "plt.hist(knicks_pts_2010, alpha=0.8, density = True, label='Knicks')\n",
    "plt.hist(nets_pts_2010, alpha=0.8, density = True, label='Nets')\n",
    "plt.legend()\n",
    "\n",
    "plt.show()"
   ]
  },
  {
   "cell_type": "markdown",
   "id": "61cbdd43",
   "metadata": {},
   "source": [
    "*There is a lot of overlap, but the distributions aren't quite the same.  The Knicks tend to score higher than the Nets.  I'd rather see a box plot.*"
   ]
  },
  {
   "cell_type": "markdown",
   "id": "e5cf0edd",
   "metadata": {},
   "source": [
    "Now, let’s compare the 2010 games to 2014. Replicate the steps from the previous three exercises using `nba_2014`. First, calculate the mean difference between the two teams points scored. Save and print the value as `diff_means_2014`. Did the difference in points get larger or smaller in 2014? Then, plot the overlapping histograms. Does the mean difference you calculated make sense?"
   ]
  },
  {
   "cell_type": "code",
   "execution_count": 10,
   "id": "8093e01a",
   "metadata": {},
   "outputs": [
    {
     "name": "stdout",
     "output_type": "stream",
     "text": [
      "0.44706798131809933\n"
     ]
    }
   ],
   "source": [
    "knicks_pts_2014 = nba_2014.pts[nba_2014.fran_id =='Knicks']\n",
    "nets_pts_2014 = nba_2014.pts[nba_2014.fran_id =='Nets']\n",
    "\n",
    "knicks_mean_score_2014 = np.mean(knicks_pts_2014)\n",
    "nets_mean_score_2014 = np.mean(nets_pts_2014)\n",
    "\n",
    "diff_means_2014 = knicks_mean_score_2014 - nets_mean_score_2014\n",
    "print(diff_means_2014)\n"
   ]
  },
  {
   "cell_type": "markdown",
   "id": "c8cd4d69",
   "metadata": {},
   "source": [
    "*The difference in points is much smaller. Does this mean the games were much closer?*"
   ]
  },
  {
   "cell_type": "code",
   "execution_count": 11,
   "id": "d01e0651",
   "metadata": {
    "scrolled": true
   },
   "outputs": [
    {
     "data": {
      "image/png": "[encoded data removed]",
      "text/plain": [
       "<Figure size 432x288 with 1 Axes>"
      ]
     },
     "metadata": {
      "needs_background": "light"
     },
     "output_type": "display_data"
    }
   ],
   "source": [
    "plt.hist(knicks_pts_2014, alpha=0.8, density = True, label='Knicks 2014')\n",
    "plt.hist(nets_pts_2014, alpha=0.8, density = True, label='Nets 2014')\n",
    "plt.legend()\n",
    "\n",
    "plt.show()"
   ]
  },
  {
   "cell_type": "markdown",
   "id": "c8691aaf",
   "metadata": {},
   "source": [
    "*The mean difference I calculated does make sense.  There is much more overlap in the two plots.*"
   ]
  },
  {
   "cell_type": "markdown",
   "id": "81752318",
   "metadata": {},
   "source": [
    "For the remainder of this project, we’ll focus on data from 2010. Let’s now include all teams in the dataset and investigate the relationship between franchise and points scored per game.\n",
    "\n",
    "Using `nba_2010`, generate side-by-side boxplots with points scored (`pts`) on the y-axis and team (`fran_id`) on the x-axis. Is there any overlap between the boxes? Does this chart suggest that `fran_id` and `pts` are associated? Which pairs of teams, if any, earn different average scores per game?\n"
   ]
  },
  {
   "cell_type": "code",
   "execution_count": 12,
   "id": "9a39c6e1",
   "metadata": {},
   "outputs": [
    {
     "data": {
      "image/png": "[encoded data removed]",
      "text/plain": [
       "<Figure size 432x288 with 1 Axes>"
      ]
     },
     "metadata": {
      "needs_background": "light"
     },
     "output_type": "display_data"
    }
   ],
   "source": [
    "sns.boxplot(data = nba_2010, x = 'fran_id', y = 'pts')\n",
    "plt.xlabel('Franchise')\n",
    "plt.ylabel('Points')\n",
    "plt.show()"
   ]
  },
  {
   "cell_type": "markdown",
   "id": "49e9b63b",
   "metadata": {},
   "source": [
    "*It looks like, in some cases, teams and points are associated. I'm not sure why the question is \"pairs of teams\". The knicks, Thunder, and Spurs have the higher averages.  They all overlap, though.*"
   ]
  },
  {
   "cell_type": "markdown",
   "id": "62bf3326",
   "metadata": {},
   "source": [
    "## Analyzing relationships between Categorical variables\n",
    "\n",
    "The variable `game_result` indicates whether a team won a particular game (`'W'` stands for 'win' and `'L'` stands for 'loss'). The variable `game_location` indicates whether a team was playing at home or away (`'H'` stands for 'home' and `'A'` stands for 'away'). Do teams tend to win more games at home compared to away?\n",
    "\n",
    "Data scientists will often calculate a contingency table of frequencies to help them determine if categorical variables are associated. Calculate a table of frequencies that shows the counts of `game_result` and `game_location`.\n",
    "\n",
    "Save your result as `location_result_freq` and print your result. Based on this table, do you think the variables are associated?\n"
   ]
  },
  {
   "cell_type": "code",
   "execution_count": 13,
   "id": "831500f9",
   "metadata": {
    "scrolled": true
   },
   "outputs": [
    {
     "data": {
      "text/html": [
       "<div>\n",
       "<style scoped>\n",
       "    .dataframe tbody tr th:only-of-type {\n",
       "        vertical-align: middle;\n",
       "    }\n",
       "\n",
       "    .dataframe tbody tr th {\n",
       "        vertical-align: top;\n",
       "    }\n",
       "\n",
       "    .dataframe thead th {\n",
       "        text-align: right;\n",
       "    }\n",
       "</style>\n",
       "<table border=\"1\" class=\"dataframe\">\n",
       "  <thead>\n",
       "    <tr style=\"text-align: right;\">\n",
       "      <th>game_location</th>\n",
       "      <th>A</th>\n",
       "      <th>H</th>\n",
       "    </tr>\n",
       "    <tr>\n",
       "      <th>game_result</th>\n",
       "      <th></th>\n",
       "      <th></th>\n",
       "    </tr>\n",
       "  </thead>\n",
       "  <tbody>\n",
       "    <tr>\n",
       "      <th>L</th>\n",
       "      <td>133</td>\n",
       "      <td>105</td>\n",
       "    </tr>\n",
       "    <tr>\n",
       "      <th>W</th>\n",
       "      <td>92</td>\n",
       "      <td>120</td>\n",
       "    </tr>\n",
       "  </tbody>\n",
       "</table>\n",
       "</div>"
      ],
      "text/plain": [
       "game_location    A    H\n",
       "game_result            \n",
       "L              133  105\n",
       "W               92  120"
      ]
     },
     "execution_count": 13,
     "metadata": {},
     "output_type": "execute_result"
    }
   ],
   "source": [
    "location_result_freq = pd.crosstab(nba_2010.game_result, nba_2010.game_location)\n",
    "\n",
    "location_result_freq"
   ]
  },
  {
   "cell_type": "markdown",
   "id": "267f6a5f",
   "metadata": {},
   "source": [
    "*They tend to lose the most games away, even more than winning games at home.*\n",
    "\n",
    "*Are the variables associated? Yes?*"
   ]
  },
  {
   "cell_type": "markdown",
   "id": "75d0127a",
   "metadata": {},
   "source": [
    "Convert this table of frequencies to a table of proportions and save the result as `location_result_proportions`. Print your result."
   ]
  },
  {
   "cell_type": "code",
   "execution_count": 14,
   "id": "4e5b04dd",
   "metadata": {},
   "outputs": [
    {
     "data": {
      "text/html": [
       "<div>\n",
       "<style scoped>\n",
       "    .dataframe tbody tr th:only-of-type {\n",
       "        vertical-align: middle;\n",
       "    }\n",
       "\n",
       "    .dataframe tbody tr th {\n",
       "        vertical-align: top;\n",
       "    }\n",
       "\n",
       "    .dataframe thead th {\n",
       "        text-align: right;\n",
       "    }\n",
       "</style>\n",
       "<table border=\"1\" class=\"dataframe\">\n",
       "  <thead>\n",
       "    <tr style=\"text-align: right;\">\n",
       "      <th>game_location</th>\n",
       "      <th>A</th>\n",
       "      <th>H</th>\n",
       "    </tr>\n",
       "    <tr>\n",
       "      <th>game_result</th>\n",
       "      <th></th>\n",
       "      <th></th>\n",
       "    </tr>\n",
       "  </thead>\n",
       "  <tbody>\n",
       "    <tr>\n",
       "      <th>L</th>\n",
       "      <td>0.295556</td>\n",
       "      <td>0.233333</td>\n",
       "    </tr>\n",
       "    <tr>\n",
       "      <th>W</th>\n",
       "      <td>0.204444</td>\n",
       "      <td>0.266667</td>\n",
       "    </tr>\n",
       "  </tbody>\n",
       "</table>\n",
       "</div>"
      ],
      "text/plain": [
       "game_location         A         H\n",
       "game_result                      \n",
       "L              0.295556  0.233333\n",
       "W              0.204444  0.266667"
      ]
     },
     "execution_count": 14,
     "metadata": {},
     "output_type": "execute_result"
    }
   ],
   "source": [
    "location_result_proportions = location_result_freq/len(nba_2010)\n",
    "location_result_proportions"
   ]
  },
  {
   "cell_type": "markdown",
   "id": "5ba81140",
   "metadata": {},
   "source": [
    "Using the contingency table created in the previous exercise (use the counts – NOT the proportions), calculate the expected contingency table (if there were no association) and the Chi-Square statistic and print your results. Does the actual contingency table look similar to the expected table — or different? Based on this output, do you think there is an association between these variables?"
   ]
  },
  {
   "cell_type": "code",
   "execution_count": 15,
   "id": "7b1ec7b7",
   "metadata": {},
   "outputs": [
    {
     "name": "stdout",
     "output_type": "stream",
     "text": [
      "[[119. 119.]\n",
      " [106. 106.]]\n",
      "6.501704455367053\n"
     ]
    }
   ],
   "source": [
    "chi2, pval, dof, expected = chi2_contingency(location_result_freq)\n",
    "# chi2, pval, dof, expected = chi2_contingency(location_result_proportions)\n",
    "\n",
    "print(expected)\n",
    "print(chi2)"
   ]
  },
  {
   "cell_type": "markdown",
   "id": "bf63ef30",
   "metadata": {},
   "source": [
    "*The contingency table looks sort of similar, but sort of different.  I'm not sure! I need more math.*\n",
    "\n",
    "*Using the proportions table from ex 7:\n",
    "0 says they aren't related?  Is 0 right?  Should this have been the `location_results_freq` instead of proportions?*\n",
    "\n",
    "*Using the freq:\n",
    "They don't look related to me, but a chi2 of 6 suggests they are strongly related.  What are we even comparing again?  They tend to win more games at home compared to away.  This doesn't make any sense to me.*\n",
    "\n",
    "*From solution: For a 2x2 table, Chi-squared greater than about 4 indicates an association. We've exceeded that!*"
   ]
  },
  {
   "cell_type": "markdown",
   "id": "a1c7ec99",
   "metadata": {},
   "source": [
    "## Analyzing Relationships Between Quantitative Variables\n",
    "\n",
    "For each game, 538 has calculated the probability that each team will win the game. We want to know if teams with a higher probability of winning (according to 538) also tend to win games by more points.\n",
    "\n",
    "In the data, this is saved as `forecast`. The `point_diff` column gives the margin of victory/defeat for each team (positive values mean that the team won; negative values mean that they lost). \n",
    "\n",
    "Did teams with a higher probability of winning (according to 538) also tend to win games by more points?\n",
    "\n",
    "Using `nba_2010`, calculate the covariance between `forecast` (538’s projected win probability) and `point_diff` (the margin of victory/defeat) in the dataset.  Call this `point_diff_forecast_cov`. Save and print your result. Looking at the matrix, what is the covariance between these two variables?\n"
   ]
  },
  {
   "cell_type": "code",
   "execution_count": 16,
   "id": "5ed642c7",
   "metadata": {},
   "outputs": [
    {
     "data": {
      "text/plain": [
       "array([[186.56,   1.37],\n",
       "       [  1.37,   0.05]])"
      ]
     },
     "execution_count": 16,
     "metadata": {},
     "output_type": "execute_result"
    }
   ],
   "source": [
    "point_diff_forecast_cov = np.cov(nba_2010.point_diff, nba_2010.forecast)\n",
    "\n",
    "point_diff_forecast_cov"
   ]
  },
  {
   "cell_type": "markdown",
   "id": "d4786dfa",
   "metadata": {},
   "source": [
    "*Covariance is 1.37. A positive covariance indicates that a larger value of one variable is associated with a larger value of the other.*"
   ]
  },
  {
   "cell_type": "markdown",
   "id": "6eedbca2",
   "metadata": {},
   "source": [
    "Because 538’s `forecast` variable is reported as a probability (not a binary), we can calculate the strength of the correlation.\n",
    "\n",
    "Using `nba_2010`, calculate the correlation between `forecast` and `point_diff`. Call this `point_diff_forecast_corr`. Save and print your result. Does this value suggest an association between the two variables?\n"
   ]
  },
  {
   "cell_type": "code",
   "execution_count": 20,
   "id": "ba7d72ad",
   "metadata": {},
   "outputs": [
    {
     "data": {
      "text/plain": [
       "0.44020887084680815"
      ]
     },
     "execution_count": 20,
     "metadata": {},
     "output_type": "execute_result"
    }
   ],
   "source": [
    "point_diff_forecast_corr, p = pearsonr(nba_2010.forecast, nba_2010.point_diff)\n",
    "\n",
    "point_diff_forecast_corr"
   ]
  },
  {
   "cell_type": "markdown",
   "id": "e4c385d6",
   "metadata": {},
   "source": [
    "*Value is closer to 1, so highly associated variables with a linear relationship.  but test with a scatter plot!*"
   ]
  },
  {
   "cell_type": "markdown",
   "id": "1fd49004",
   "metadata": {},
   "source": [
    "Generate a scatter plot of `forecast` (on the x-axis) and `point_diff` (on the y-axis). Does the correlation value make sense?"
   ]
  },
  {
   "cell_type": "code",
   "execution_count": 19,
   "id": "e91dcaf7",
   "metadata": {},
   "outputs": [
    {
     "data": {
      "image/png": "[encoded data removed]",
      "text/plain": [
       "<Figure size 432x288 with 1 Axes>"
      ]
     },
     "metadata": {
      "needs_background": "light"
     },
     "output_type": "display_data"
    }
   ],
   "source": [
    "plt.scatter(nba_2010.forecast, nba_2010.point_diff)\n",
    "plt.xlabel('Forecasted Win Probability')\n",
    "plt.ylabel('Win Margin')\n",
    "\n",
    "plt.show()"
   ]
  },
  {
   "cell_type": "markdown",
   "id": "c4ed01c4",
   "metadata": {},
   "source": [
    "*There is a linear trend that says the higher the forcasted win probability, the higher the points. Or the other way around.*"
   ]
  }
 ],
 "metadata": {
  "kernelspec": {
   "display_name": "Python 3 (ipykernel)",
   "language": "python",
   "name": "python3"
  },
  "language_info": {
   "codemirror_mode": {
    "name": "ipython",
    "version": 3
   },
   "file_extension": ".py",
   "mimetype": "text/x-python",
   "name": "python",
   "nbconvert_exporter": "python",
   "pygments_lexer": "ipython3",
   "version": "3.9.7"
  }
 },
 "nbformat": 4,
 "nbformat_minor": 5
}
